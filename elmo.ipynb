{
 "cells": [
  {
   "cell_type": "code",
   "execution_count": 1,
   "metadata": {},
   "outputs": [
    {
     "name": "stderr",
     "output_type": "stream",
     "text": [
      "C:\\Users\\boliv\\AppData\\Local\\Packages\\PythonSoftwareFoundation.Python.3.10_qbz5n2kfra8p0\\LocalCache\\local-packages\\Python310\\site-packages\\tqdm\\auto.py:21: TqdmWarning: IProgress not found. Please update jupyter and ipywidgets. See https://ipywidgets.readthedocs.io/en/stable/user_install.html\n",
      "  from .autonotebook import tqdm as notebook_tqdm\n"
     ]
    }
   ],
   "source": [
    "from start import *\n",
    "df = pd.read_csv('df_cleaned.csv', decimal='.')\n",
    "cols_text=['review_comment_title', 'review_comment_message']\n",
    "cols_cat=['product_category_name','review_score']\n",
    "cols_num=['price','freight_value', 'order_item_id']\n",
    "df_copy = df.copy()"
   ]
  },
  {
   "cell_type": "code",
   "execution_count": 2,
   "metadata": {},
   "outputs": [
    {
     "name": "stderr",
     "output_type": "stream",
     "text": [
      "2024-08-28 23:45:58,746 WARNING: Could not find config.  Trying elmoformanylangs/168/cnn_50_100_512_4096_sample.json\n",
      "2024-08-28 23:45:58,814 INFO: char embedding size: 2237\n",
      "2024-08-28 23:45:59,516 INFO: word embedding size: 178961\n",
      "2024-08-28 23:46:05,908 INFO: Model(\n",
      "  (token_embedder): ConvTokenEmbedder(\n",
      "    (word_emb_layer): EmbeddingLayer(\n",
      "      (embedding): Embedding(178961, 100, padding_idx=3)\n",
      "    )\n",
      "    (char_emb_layer): EmbeddingLayer(\n",
      "      (embedding): Embedding(2237, 50, padding_idx=2234)\n",
      "    )\n",
      "    (convolutions): ModuleList(\n",
      "      (0): Conv1d(50, 32, kernel_size=(1,), stride=(1,))\n",
      "      (1): Conv1d(50, 32, kernel_size=(2,), stride=(1,))\n",
      "      (2): Conv1d(50, 64, kernel_size=(3,), stride=(1,))\n",
      "      (3): Conv1d(50, 128, kernel_size=(4,), stride=(1,))\n",
      "      (4): Conv1d(50, 256, kernel_size=(5,), stride=(1,))\n",
      "      (5): Conv1d(50, 512, kernel_size=(6,), stride=(1,))\n",
      "      (6): Conv1d(50, 1024, kernel_size=(7,), stride=(1,))\n",
      "    )\n",
      "    (highways): Highway(\n",
      "      (_layers): ModuleList(\n",
      "        (0-1): 2 x Linear(in_features=2048, out_features=4096, bias=True)\n",
      "      )\n",
      "    )\n",
      "    (projection): Linear(in_features=2148, out_features=512, bias=True)\n",
      "  )\n",
      "  (encoder): ElmobiLm(\n",
      "    (forward_layer_0): LstmCellWithProjection(\n",
      "      (input_linearity): Linear(in_features=512, out_features=16384, bias=False)\n",
      "      (state_linearity): Linear(in_features=512, out_features=16384, bias=True)\n",
      "      (state_projection): Linear(in_features=4096, out_features=512, bias=False)\n",
      "    )\n",
      "    (backward_layer_0): LstmCellWithProjection(\n",
      "      (input_linearity): Linear(in_features=512, out_features=16384, bias=False)\n",
      "      (state_linearity): Linear(in_features=512, out_features=16384, bias=True)\n",
      "      (state_projection): Linear(in_features=4096, out_features=512, bias=False)\n",
      "    )\n",
      "    (forward_layer_1): LstmCellWithProjection(\n",
      "      (input_linearity): Linear(in_features=512, out_features=16384, bias=False)\n",
      "      (state_linearity): Linear(in_features=512, out_features=16384, bias=True)\n",
      "      (state_projection): Linear(in_features=4096, out_features=512, bias=False)\n",
      "    )\n",
      "    (backward_layer_1): LstmCellWithProjection(\n",
      "      (input_linearity): Linear(in_features=512, out_features=16384, bias=False)\n",
      "      (state_linearity): Linear(in_features=512, out_features=16384, bias=True)\n",
      "      (state_projection): Linear(in_features=4096, out_features=512, bias=False)\n",
      "    )\n",
      "  )\n",
      ")\n",
      "c:\\Users\\boliv\\OneDrive\\Documentos\\UFBA\\tcc\\tcc2\\ELMoForManyLangs\\elmoformanylangs\\frontend.py:206: FutureWarning: You are using `torch.load` with `weights_only=False` (the current default value), which uses the default pickle module implicitly. It is possible to construct malicious pickle data which will execute arbitrary code during unpickling (See https://github.com/pytorch/pytorch/blob/main/SECURITY.md#untrusted-models for more details). In a future release, the default value for `weights_only` will be flipped to `True`. This limits the functions that could be executed during unpickling. Arbitrary objects will no longer be allowed to be loaded via this mode unless they are explicitly allowlisted by the user via `torch.serialization.add_safe_globals`. We recommend you start setting `weights_only=True` for any use case where you don't have full control of the loaded file. Please open an issue on GitHub for any issues related to this experimental feature.\n",
      "  self.token_embedder.load_state_dict(torch.load(os.path.join(path, 'token_embedder.pkl'),\n",
      "c:\\Users\\boliv\\OneDrive\\Documentos\\UFBA\\tcc\\tcc2\\ELMoForManyLangs\\elmoformanylangs\\frontend.py:208: FutureWarning: You are using `torch.load` with `weights_only=False` (the current default value), which uses the default pickle module implicitly. It is possible to construct malicious pickle data which will execute arbitrary code during unpickling (See https://github.com/pytorch/pytorch/blob/main/SECURITY.md#untrusted-models for more details). In a future release, the default value for `weights_only` will be flipped to `True`. This limits the functions that could be executed during unpickling. Arbitrary objects will no longer be allowed to be loaded via this mode unless they are explicitly allowlisted by the user via `torch.serialization.add_safe_globals`. We recommend you start setting `weights_only=True` for any use case where you don't have full control of the loaded file. Please open an issue on GitHub for any issues related to this experimental feature.\n",
      "  self.encoder.load_state_dict(torch.load(os.path.join(path, 'encoder.pkl'),\n",
      "2024-08-28 23:46:12,998 INFO: 1 batches, avg len: 11469.0\n"
     ]
    }
   ],
   "source": [
    "#Gera o embedding para as duas colunas textuais\n",
    "elmo_result_message = gera_embbeding(data=df,modelo='elmo', coluna='review_comment_message')\n",
    "elmo_result_title = gera_embbeding(data=df,modelo='elmo', coluna='review_comment_title')"
   ]
  },
  {
   "cell_type": "code",
   "execution_count": 15,
   "metadata": {},
   "outputs": [],
   "source": [
    "#Gera as colunas PCA que serão utilizadas no Ahmad, para o artigo esse código foi rodado 3 vezes, com o pca_k = 3, pca_k = 6, pca_k = 12\n",
    "df_elmo_pca_message = criando_coluna_PCA(df=df, modelo='elmo', col='message', result_embbe=elmo_result_message, pca_k=12)\n",
    "df_elmo_pca_title = criando_coluna_PCA(df=df_copy, modelo='elmo', col='title', result_embbe=elmo_result_title, pca_k=12)"
   ]
  },
  {
   "cell_type": "code",
   "execution_count": 17,
   "metadata": {},
   "outputs": [],
   "source": [
    "#Seleciona apenas as variavéis numéricas\n",
    "numeric_data_message = df_elmo_pca_message.select_dtypes(include=['float64', 'float32'])\n",
    "numeric_data_title = df_elmo_pca_title.select_dtypes(include=['float64', 'float32'])\n",
    "df_mixed = pd.concat([numeric_data_message, numeric_data_title], axis=1)\n",
    "df_mixed = df_mixed.loc[:, ~df_mixed.columns.duplicated()]"
   ]
  },
  {
   "cell_type": "code",
   "execution_count": 18,
   "metadata": {},
   "outputs": [],
   "source": [
    "#Gera a distância Ahmad para os dados mistos\n",
    "dist_mtx_mt=distmix(data=df_mixed, method=\"ahmad\", idnum=df_mixed.columns, idcat=cols_cat)"
   ]
  },
  {
   "cell_type": "code",
   "execution_count": 55,
   "metadata": {},
   "outputs": [
    {
     "name": "stdout",
     "output_type": "stream",
     "text": [
      "0.9286532969811249\n"
     ]
    }
   ],
   "source": [
    "#Foram rodados experimentos alterando o n_clusters e o linkage, como mostrado no artigo\n",
    "clustering_embedding = AgglomerativeClustering(metric='precomputed', linkage='single', n_clusters=6).fit_predict(dist_mtx_mt)\n",
    "\n",
    "#APLICANDO SILHUETA EMBEDDIING\n",
    "print(silhouette_score(X = dist_mtx_mt, labels=clustering_embedding, metric='precomputed'))"
   ]
  }
 ],
 "metadata": {
  "kernelspec": {
   "display_name": "Python 3",
   "language": "python",
   "name": "python3"
  },
  "language_info": {
   "codemirror_mode": {
    "name": "ipython",
    "version": 3
   },
   "file_extension": ".py",
   "mimetype": "text/x-python",
   "name": "python",
   "nbconvert_exporter": "python",
   "pygments_lexer": "ipython3",
   "version": "3.10.11"
  }
 },
 "nbformat": 4,
 "nbformat_minor": 2
}
